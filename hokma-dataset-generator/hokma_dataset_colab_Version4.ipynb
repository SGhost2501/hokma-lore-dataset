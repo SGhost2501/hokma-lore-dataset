{
 "cells": [
  {
   "cell_type": "markdown",
   "metadata": {},
   "source": [
    "# Hokma Dataset Generator (Colab)\n",
    "Generate and preview datasets in-browser."
   ]
  },
  {
   "cell_type": "code",
   "metadata": {},
   "source": [
    "!pip install tqdm pyyaml"
   ]
  },
  {
   "cell_type": "code",
   "metadata": {},
   "source": [
    "# Upload your templates.json and generator script here, then run as below:\n",
    "!python hokma_dataset_generator.py --template-file templates.json --num-entries 100 --output preview.jsonl"
   ]
  },
  {
   "cell_type": "code",
   "metadata": {},
   "source": [
    "# Preview output\n",
    "import json\n",
    "with open('preview.jsonl') as f:\n",
    "    for i, line in zip(range(10), f):\n",
    "        print(json.loads(line))"
   ]
  }
 ],
 "metadata": {},
 "nbformat": 4,
 "nbformat_minor": 2
}